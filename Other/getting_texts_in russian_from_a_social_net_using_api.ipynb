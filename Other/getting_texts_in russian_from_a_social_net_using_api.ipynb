{
 "cells": [
  {
   "cell_type": "code",
   "execution_count": 92,
   "outputs": [],
   "source": [
    "import json\n",
    "import requests\n",
    "import time\n",
    "import csv"
   ],
   "metadata": {
    "collapsed": false,
    "pycharm": {
     "name": "#%%\n"
    }
   }
  },
  {
   "cell_type": "code",
   "execution_count": 93,
   "outputs": [],
   "source": [
    "group_id = '-92616631'\n",
    "access_token = 'XXXXXXXXX'\n",
    "deadline = 1577826000"
   ],
   "metadata": {
    "collapsed": false,
    "pycharm": {
     "name": "#%%\n"
    }
   }
  },
  {
   "cell_type": "markdown",
   "source": [
    "Get IDs of needed publications not older than „deadline“"
   ],
   "metadata": {
    "collapsed": false,
    "pycharm": {
     "name": "#%% md\n"
    }
   }
  },
  {
   "cell_type": "code",
   "execution_count": 94,
   "outputs": [
    {
     "name": "stdout",
     "output_type": "stream",
     "text": [
      "266\n"
     ]
    }
   ],
   "source": [
    "ids = []\n",
    "while len(ids)%100==0:\n",
    "    url = 'https://api.of.service.com/method/mtd.get?owner_id=' + group_id + '&count=100&offset=' + str(len(ids)) + '&access_token=' + access_token + '&v=1.111'\n",
    "    response = requests.get(url)\n",
    "    data = json.loads(response.text)\n",
    "    for post in data['response']['items']:\n",
    "        if post['date'] > deadline:\n",
    "            ids.append(post['id'])\n",
    "\n",
    "print(len(ids))"
   ],
   "metadata": {
    "collapsed": false,
    "pycharm": {
     "name": "#%%\n"
    }
   }
  },
  {
   "cell_type": "markdown",
   "source": [
    "Get texts from publications not older than „deadline“"
   ],
   "metadata": {
    "collapsed": false,
    "pycharm": {
     "name": "#%% md\n"
    }
   }
  },
  {
   "cell_type": "code",
   "execution_count": null,
   "outputs": [],
   "source": [
    "comments = []\n",
    "rsp_count = 0\n",
    "\n",
    "for postid in ids:\n",
    "    len_diff = 0\n",
    "    len_before = len(comments)\n",
    "    print('id = ', postid)\n",
    "    while len_diff%100 == 0:\n",
    "        url = 'https://api.of.service.com/method/mtd.getTexts?owner_id=' + group_id + '&post_id=' + str(postid) + '&preview_length=0&count=100&offset=' + str(len_diff) + '&access_token=' + access_token + '&v=1.111'\n",
    "        rsp_count +=1\n",
    "        if rsp_count%5 == 0:\n",
    "            print('! TIMEOUT !')\n",
    "            time.sleep(2)\n",
    "        response_c = requests.get(url)\n",
    "        ## print(response_c.text)\n",
    "        post_comments = json.loads(response_c.text)\n",
    "        if len(post_comments['response']['items']) == 0:\n",
    "            break\n",
    "        for comment in post_comments['response']['items']:\n",
    "            if comment['date'] > deadline:\n",
    "                textaslist = [comment['text'].replace('\\n', ' ')]\n",
    "                comments.append(textaslist)\n",
    "\n",
    "        len_diff = len(comments) - len_before\n",
    "        print('diff = ', len_diff)\n",
    "\n",
    "print(len(comments))"
   ],
   "metadata": {
    "collapsed": false,
    "pycharm": {
     "name": "#%%\n",
     "is_executing": true
    }
   }
  },
  {
   "cell_type": "code",
   "execution_count": 96,
   "outputs": [],
   "source": [
    "file = open('/group_texts.csv', 'w')\n",
    "wr = csv.writer(file)\n",
    "for comm in comments:\n",
    "    wr.writerow(comm)\n",
    "\n",
    "file.close()"
   ],
   "metadata": {
    "collapsed": false,
    "pycharm": {
     "name": "#%%\n"
    }
   }
  },
  {
   "cell_type": "code",
   "execution_count": null,
   "outputs": [],
   "source": [],
   "metadata": {
    "collapsed": false,
    "pycharm": {
     "name": "#%%\n"
    }
   }
  }
 ],
 "metadata": {
  "kernelspec": {
   "display_name": "Python 3",
   "language": "python",
   "name": "python3"
  },
  "language_info": {
   "codemirror_mode": {
    "name": "ipython",
    "version": 2
   },
   "file_extension": ".py",
   "mimetype": "text/x-python",
   "name": "python",
   "nbconvert_exporter": "python",
   "pygments_lexer": "ipython2",
   "version": "2.7.6"
  }
 },
 "nbformat": 4,
 "nbformat_minor": 0
}