{
 "cells": [
  {
   "cell_type": "code",
   "execution_count": null,
   "metadata": {
    "collapsed": true,
    "pycharm": {
     "name": "#%%\n",
     "is_executing": true
    }
   },
   "outputs": [],
   "source": [
    "import nltk\n",
    "import ssl\n",
    "\n",
    "try:\n",
    "    _create_unverified_https_context = ssl._create_unverified_context\n",
    "except AttributeError:\n",
    "    pass\n",
    "else:\n",
    "    ssl._create_default_https_context = _create_unverified_https_context\n",
    "\n",
    "nltk.download(\"stopwords\")"
   ]
  },
  {
   "cell_type": "code",
   "execution_count": 8,
   "outputs": [],
   "source": [
    "from nltk.corpus import stopwords\n",
    "from pymystem3 import Mystem\n",
    "from string import punctuation\n",
    "import csv\n",
    "from itertools import groupby\n",
    "import re\n",
    "\n",
    "\n",
    "mystem = Mystem()\n",
    "russian_stopwords = stopwords.words(\"russian\")"
   ],
   "metadata": {
    "collapsed": false,
    "pycharm": {
     "name": "#%%\n"
    }
   }
  },
  {
   "cell_type": "code",
   "execution_count": 13,
   "outputs": [],
   "source": [
    "def load_and_prepare(file):\n",
    "    comments_file = open(file)\n",
    "    comments = csv.reader(comments_file, delimiter=';')\n",
    "    tpl = []\n",
    "\n",
    "    for i in comments:\n",
    "        tpl.append(i)\n",
    "\n",
    "    flat_list = []\n",
    "    for sublist in tpl:\n",
    "        for item in sublist:\n",
    "            if item != ' ' and item != '':\n",
    "                flat_list.append(item)\n",
    "\n",
    "    my_punctuation = [punctuation]\n",
    "    my_punctuation = my_punctuation[0]\n",
    "    my_punctuation += '«»—−–…'\n",
    "\n",
    "    ready_tokens = []\n",
    "\n",
    "    for comment in flat_list:\n",
    "\n",
    "        comment = re.sub(r'http\\S+', '', comment)\n",
    "        comment = re.sub(r'\\[(id|club)\\d*\\|.*\\]', '', comment)\n",
    "\n",
    "        token_cleared = []\n",
    "        for k, g in groupby(comment):\n",
    "            if k not in set(my_punctuation):\n",
    "                token_cleared.extend(g)\n",
    "        token = ''.join(token_cleared)\n",
    "\n",
    "        emoji_pattern = re.compile(\"[\"\n",
    "                                   u\"\\U0001F600-\\U0001F64F\"\n",
    "                                   u\"\\U0001F300-\\U0001F5FF\"\n",
    "                                   u\"\\U0001F680-\\U0001F6FF\"\n",
    "                                   u\"\\U0001F1E0-\\U0001F1FF\"\n",
    "                                   u\"\\U00002702-\\U000027B0\"\n",
    "                                   u\"\\U000024C2-\\U0001F251\"\n",
    "                                   u\"\\U0001F900-\\U0001F9FF\"\n",
    "                                   \"]+\", flags=re.UNICODE)\n",
    "        token = emoji_pattern.sub(r'', token)\n",
    "\n",
    "        tokens = mystem.lemmatize(token)\n",
    "        tokens = [token for token in tokens if token not in russian_stopwords \\\n",
    "                  and token.strip() != \" \" and token.strip() != \"\" and token.strip() != \"\\n\" \\\n",
    "                  and not token.isdigit()]\n",
    "\n",
    "        if tokens:\n",
    "            ready_tokens.append(tokens)\n",
    "\n",
    "    comments_file.close()\n",
    "\n",
    "    return ready_tokens"
   ],
   "metadata": {
    "collapsed": false,
    "pycharm": {
     "name": "#%%\n"
    }
   }
  },
  {
   "cell_type": "code",
   "execution_count": null,
   "outputs": [],
   "source": [
    "print(load_and_prepare('group_texts.csv'))"
   ],
   "metadata": {
    "collapsed": false,
    "pycharm": {
     "name": "#%%\n",
     "is_executing": true
    }
   }
  }
 ],
 "metadata": {
  "kernelspec": {
   "display_name": "Python 3",
   "language": "python",
   "name": "python3"
  },
  "language_info": {
   "codemirror_mode": {
    "name": "ipython",
    "version": 2
   },
   "file_extension": ".py",
   "mimetype": "text/x-python",
   "name": "python",
   "nbconvert_exporter": "python",
   "pygments_lexer": "ipython2",
   "version": "2.7.6"
  }
 },
 "nbformat": 4,
 "nbformat_minor": 0
}