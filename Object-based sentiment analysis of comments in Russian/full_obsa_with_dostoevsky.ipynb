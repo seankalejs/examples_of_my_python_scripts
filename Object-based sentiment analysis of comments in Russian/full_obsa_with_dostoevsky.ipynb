{
 "cells": [
  {
   "cell_type": "code",
   "execution_count": 13,
   "metadata": {
    "collapsed": true,
    "pycharm": {
     "name": "#%%\n"
    }
   },
   "outputs": [],
   "source": [
    "import csv\n",
    "import pandas as pd\n",
    "from rutermextract import TermExtractor\n",
    "from pymystem3 import Mystem\n",
    "from dostoevsky.tokenization import RegexTokenizer\n",
    "from dostoevsky.models import FastTextSocialNetworkModel\n",
    "import fasttext\n",
    "\n",
    "mystem = Mystem()\n",
    "term_extractor = TermExtractor()\n",
    "\n",
    "all_c = 'comments_all.csv'"
   ]
  },
  {
   "cell_type": "code",
   "execution_count": 14,
   "outputs": [],
   "source": [
    "def read_and_prepare(file):\n",
    "    comments_file = open(file)\n",
    "    comments = csv.reader(comments_file, delimiter=';')\n",
    "    tpl = []\n",
    "\n",
    "    for i in comments:\n",
    "        tpl.append(i)\n",
    "\n",
    "    flat_list = []\n",
    "    for sublist in tpl:\n",
    "        for item in sublist:\n",
    "            if item != ' ' and item != '':\n",
    "                flat_list.append(item)\n",
    "\n",
    "    comments_file.close()\n",
    "\n",
    "    return flat_list"
   ],
   "metadata": {
    "collapsed": false,
    "pycharm": {
     "name": "#%%\n"
    }
   }
  },
  {
   "cell_type": "code",
   "execution_count": 15,
   "outputs": [],
   "source": [
    "def trans_num_into_sent(number):\n",
    "    if -2 <= float(number) <= 2:\n",
    "        return 'neutral'\n",
    "    elif float(number) > 2:\n",
    "        return 'positive'\n",
    "    else:\n",
    "        return 'negative'"
   ],
   "metadata": {
    "collapsed": false,
    "pycharm": {
     "name": "#%%\n"
    }
   }
  },
  {
   "cell_type": "code",
   "execution_count": 16,
   "outputs": [],
   "source": [
    "user_comments = read_and_prepare(all_c)"
   ],
   "metadata": {
    "collapsed": false,
    "pycharm": {
     "name": "#%%\n"
    }
   }
  },
  {
   "cell_type": "markdown",
   "source": [
    "## Whole corpus' keywords and key phrases extraction"
   ],
   "metadata": {
    "collapsed": false,
    "pycharm": {
     "name": "#%% md\n"
    }
   }
  },
  {
   "cell_type": "code",
   "execution_count": 17,
   "outputs": [],
   "source": [
    "comments_as_text = '. '.join(user_comments)\n",
    "comments_as_text_lemm = mystem.lemmatize(comments_as_text)\n",
    "comments_as_text_lemm = ''.join(comments_as_text_lemm)"
   ],
   "metadata": {
    "collapsed": false,
    "pycharm": {
     "name": "#%%\n"
    }
   }
  },
  {
   "cell_type": "code",
   "execution_count": 18,
   "outputs": [],
   "source": [
    "terms_lemmas = []\n",
    "terms_count = []\n",
    "for term in term_extractor(comments_as_text_lemm, nested=True):\n",
    "    terms_lemmas.append(str(term.normalized))\n",
    "    terms_count.append(int(term.count))\n",
    "\n",
    "terms_sentiments_score = [float(0)] * len(terms_lemmas)\n",
    "terms_sentiments = [None] * len(terms_lemmas)\n",
    "\n",
    "df = pd.DataFrame(data={'terms': terms_lemmas, 'terms_count': terms_count, 'terms_sentiments_score': terms_sentiments_score, 'terms_sentiments': terms_sentiments})"
   ],
   "metadata": {
    "collapsed": false,
    "pycharm": {
     "name": "#%%\n"
    }
   }
  },
  {
   "cell_type": "markdown",
   "source": [
    "## Calculation of sentiments for each keyword using Dostoevsky"
   ],
   "metadata": {
    "collapsed": false,
    "pycharm": {
     "name": "#%% md\n"
    }
   }
  },
  {
   "cell_type": "code",
   "execution_count": 19,
   "outputs": [],
   "source": [
    "fasttext.FastText.eprint = lambda x: None\n",
    "tokenizer = RegexTokenizer()\n",
    "model = FastTextSocialNetworkModel(tokenizer=tokenizer)\n",
    "\n",
    "sentiments = model.predict(user_comments, k=1)"
   ],
   "metadata": {
    "collapsed": false,
    "pycharm": {
     "name": "#%%\n"
    }
   }
  },
  {
   "cell_type": "code",
   "execution_count": 20,
   "outputs": [],
   "source": [
    "for i in range(0, len(user_comments)):\n",
    "    comment_terms = mystem.lemmatize(user_comments[i])\n",
    "    comment_terms = ''.join(comment_terms)\n",
    "    comment_terms = term_extractor(comment_terms, nested=True)\n",
    "\n",
    "    for c_term in comment_terms:\n",
    "        if c_term.normalized in df['terms'].values:\n",
    "            if str(list(sentiments[i].keys())[0]) != 'neutral' and str(list(sentiments[i].keys())[0]) != 'skip' and str(list(sentiments[i].keys())[0]) != 'speech':\n",
    "                index = int(df[df['terms']==c_term.normalized].index.item())\n",
    "                senti = float(df['terms_sentiments_score'].values[index])\n",
    "\n",
    "                if str(list(sentiments[i].keys())[0]) == 'positive':\n",
    "                    senti += float(list(sentiments[i].values())[0])\n",
    "                    senti = round(senti, 3)\n",
    "                if str(list(sentiments[i].keys())[0]) == 'negative':\n",
    "                    senti -= float(list(sentiments[i].values())[0])\n",
    "                    senti = round(senti, 3)\n",
    "\n",
    "                df.at[index, 'terms_sentiments_score'] = senti"
   ],
   "metadata": {
    "collapsed": false,
    "pycharm": {
     "name": "#%%\n"
    }
   }
  },
  {
   "cell_type": "code",
   "execution_count": null,
   "outputs": [],
   "source": [
    "df['terms_sentiments'] = df['terms_sentiments_score'].apply(trans_num_into_sent)\n",
    "print(df)"
   ],
   "metadata": {
    "collapsed": false,
    "pycharm": {
     "name": "#%%\n",
     "is_executing": true
    }
   }
  },
  {
   "cell_type": "code",
   "execution_count": 22,
   "outputs": [],
   "source": [
    "df.to_csv('terms_all_c_dostoevsky.csv', encoding='utf-8', index=False)"
   ],
   "metadata": {
    "collapsed": false,
    "pycharm": {
     "name": "#%%\n"
    }
   }
  },
  {
   "cell_type": "code",
   "execution_count": null,
   "outputs": [],
   "source": [],
   "metadata": {
    "collapsed": false,
    "pycharm": {
     "name": "#%%\n"
    }
   }
  }
 ],
 "metadata": {
  "kernelspec": {
   "display_name": "Python 3",
   "language": "python",
   "name": "python3"
  },
  "language_info": {
   "codemirror_mode": {
    "name": "ipython",
    "version": 2
   },
   "file_extension": ".py",
   "mimetype": "text/x-python",
   "name": "python",
   "nbconvert_exporter": "python",
   "pygments_lexer": "ipython2",
   "version": "2.7.6"
  }
 },
 "nbformat": 4,
 "nbformat_minor": 0
}